{
 "cells": [
  {
   "cell_type": "code",
   "execution_count": 1,
   "metadata": {},
   "outputs": [
    {
     "data": {
      "text/plain": [
       "'1.12.0'"
      ]
     },
     "execution_count": 1,
     "metadata": {},
     "output_type": "execute_result"
    }
   ],
   "source": [
    "import tensorflow as tf\n",
    "tf.__version__"
   ]
  },
  {
   "cell_type": "markdown",
   "metadata": {},
   "source": [
    "# Building Running and Visualizing Graphs"
   ]
  },
  {
   "cell_type": "markdown",
   "metadata": {},
   "source": [
    "The name allows us to identify these constant when we visualise using tensor board."
   ]
  },
  {
   "cell_type": "code",
   "execution_count": 2,
   "metadata": {},
   "outputs": [],
   "source": [
    "a = tf.constant(6, name = 'constant_a')\n",
    "b = tf.constant(6, name = 'constant_b')\n",
    "c = tf.constant(6, name = 'constant_c')\n",
    "d = tf.constant(6, name = 'constant_d')\n",
    "\n",
    "mul = tf.multiply(a, b, name='mul')\n",
    "div = tf.div(c, d, name='div')\n",
    "addn = tf.add_n([mul, div], name='addn')"
   ]
  },
  {
   "cell_type": "code",
   "execution_count": 3,
   "metadata": {},
   "outputs": [
    {
     "name": "stdout",
     "output_type": "stream",
     "text": [
      "Tensor(\"addn:0\", shape=(), dtype=int32)\n"
     ]
    }
   ],
   "source": [
    "print(addn)"
   ]
  },
  {
   "cell_type": "code",
   "execution_count": 4,
   "metadata": {},
   "outputs": [
    {
     "data": {
      "text/plain": [
       "37"
      ]
     },
     "execution_count": 4,
     "metadata": {},
     "output_type": "execute_result"
    }
   ],
   "source": [
    "sess = tf.Session()\n",
    "sess.run(addn)"
   ]
  },
  {
   "cell_type": "code",
   "execution_count": 5,
   "metadata": {},
   "outputs": [
    {
     "data": {
      "text/plain": [
       "1"
      ]
     },
     "execution_count": 5,
     "metadata": {},
     "output_type": "execute_result"
    }
   ],
   "source": [
    "sess.run(div)"
   ]
  },
  {
   "cell_type": "code",
   "execution_count": 6,
   "metadata": {},
   "outputs": [
    {
     "data": {
      "text/plain": [
       "36"
      ]
     },
     "execution_count": 6,
     "metadata": {},
     "output_type": "execute_result"
    }
   ],
   "source": [
    "sess.run(mul)"
   ]
  },
  {
   "cell_type": "markdown",
   "metadata": {},
   "source": [
    "## Visualizing"
   ]
  },
  {
   "cell_type": "code",
   "execution_count": 7,
   "metadata": {},
   "outputs": [],
   "source": [
    "writer = tf.summary.FileWriter('./cg1',sess.graph)"
   ]
  },
  {
   "cell_type": "code",
   "execution_count": 8,
   "metadata": {},
   "outputs": [],
   "source": [
    "writer.close()\n",
    "sess.close()"
   ]
  },
  {
   "attachments": {
    "image.png": {
     "image/png": "[encoded data removed]"
    }
   },
   "cell_type": "markdown",
   "metadata": {},
   "source": [
    "**Enter a command in CMD to visuallize a Graph in tensorboard**\n",
    "\n",
    "> `tensorboard --logdir=:\"cg1\"`\n",
    "\n",
    "![image.png](attachment:image.png)"
   ]
  },
  {
   "cell_type": "markdown",
   "metadata": {},
   "source": [
    "# Simple math operation"
   ]
  },
  {
   "cell_type": "code",
   "execution_count": 13,
   "metadata": {},
   "outputs": [
    {
     "name": "stdout",
     "output_type": "stream",
     "text": [
      "Square of a:  42.25\n",
      "Power of b ^ c:  39.304005\n",
      "Square root of d: 10.0099945\n",
      "Sum of square, power and square root  91.563995\n"
     ]
    }
   ],
   "source": [
    "a = tf.constant(6.5, name='constant_a')\n",
    "b = tf.constant(3.4, name='constant_b')\n",
    "c = tf.constant(3.0, name='constant_c')\n",
    "d = tf.constant(100.2, name='constant_d')\n",
    "\n",
    "square = tf.square(a, name='square_a')\n",
    "power = tf.pow(b, c, name='pow_b_c')\n",
    "sqrt = tf.sqrt(d, name='sqrt_d')\n",
    "\n",
    "final_sum = tf.add_n([square, power,sqrt], name='final_sum')\n",
    "sess = tf.Session()\n",
    "\n",
    "print('Square of a: ', sess.run(square))\n",
    "print('Power of b ^ c: ', sess.run(power))\n",
    "print('Square root of d:', sess.run(sqrt))\n",
    "print('Sum of square, power and square root ', sess.run(final_sum))"
   ]
  },
  {
   "cell_type": "code",
   "execution_count": 14,
   "metadata": {},
   "outputs": [],
   "source": [
    "writer = tf.summary.FileWriter('./cg2',sess.graph)\n",
    "writer.close()\n",
    "sess.close()"
   ]
  },
  {
   "cell_type": "markdown",
   "metadata": {},
   "source": [
    "# Multidimantion Tensor"
   ]
  },
  {
   "cell_type": "code",
   "execution_count": 15,
   "metadata": {},
   "outputs": [
    {
     "name": "stdout",
     "output_type": "stream",
     "text": [
      "x:  [100 200 300]\n",
      "y:  [1 2 3]\n",
      "sum(x):  600\n",
      "prod(y):  100\n",
      "mean(sum(x), prod(y)) 303\n"
     ]
    }
   ],
   "source": [
    "x = tf.constant([100, 200, 300], name='x')\n",
    "y = tf.constant([1,2,3], name='y')\n",
    "\n",
    "sum_x = tf.reduce_sum(x, name='sum_x')\n",
    "prod_y = tf.reduce_prod(y, name='prod_y')\n",
    "final_div = tf.div(sum_x, prod_y, name='final_div')\n",
    "final_mean = tf.reduce_mean([sum_x, prod_y], name='final_mean')\n",
    "\n",
    "sess = tf.Session()\n",
    "\n",
    "print('x: ', sess.run(x))\n",
    "print('y: ', sess.run(y))\n",
    "print('sum(x): ', sess.run(sum_x))\n",
    "print('prod(y): ', sess.run(final_div))\n",
    "print('mean(sum(x), prod(y))', sess.run(final_mean))\n",
    "\n",
    "writer = tf.summary.FileWriter('./cg3', sess.graph)\n",
    "writer.close()\n",
    "sess.close()"
   ]
  }
 ],
 "metadata": {
  "kernelspec": {
   "display_name": "Python 3",
   "language": "python",
   "name": "python3"
  },
  "language_info": {
   "codemirror_mode": {
    "name": "ipython",
    "version": 3
   },
   "file_extension": ".py",
   "mimetype": "text/x-python",
   "name": "python",
   "nbconvert_exporter": "python",
   "pygments_lexer": "ipython3",
   "version": "3.5.6"
  }
 },
 "nbformat": 4,
 "nbformat_minor": 2
}
